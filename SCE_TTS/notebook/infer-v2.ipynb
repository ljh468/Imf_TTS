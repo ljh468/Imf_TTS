{
 "nbformat": 4,
 "nbformat_minor": 0,
 "metadata": {
  "colab": {
   "name": "infer-v2.ipynb",
   "provenance": [
    {
     "file_id": "1YkxjzBz3V4eXoAaEgcFNEUg8ZyWV40x9",
     "timestamp": 1634258310466
    },
    {
     "file_id": "13pqat2mWsMha7Vn_-Q5_Ih8MDkvz3q5a",
     "timestamp": 1622375316346
    },
    {
     "file_id": "1IlZt42ETvNHthRFXfwNSSH-ftWthxzqr",
     "timestamp": 1596336131977
    },
    {
     "file_id": "1UinTd1Kp1ytwPQ4QWA610ZKOVfmPDdn5",
     "timestamp": 1596300568469
    }
   ],
   "collapsed_sections": []
  },
  "kernelspec": {
   "name": "hkcloud",
   "language": "python",
   "display_name": "hkcloud"
  },
  "accelerator": "GPU",
  "pycharm": {
   "stem_cell": {
    "cell_type": "raw",
    "source": [
     "# -*- coding: utf-8 -*-"
    ],
    "metadata": {
     "collapsed": false
    }
   }
  }
 },
 "cells": [
  {
   "cell_type": "markdown",
   "metadata": {
    "id": "4nnHcDyOyAHM"
   },
   "source": [
    "# SCE-TTS: 음성합성 데모\n",
    "\n",
    "이 문서는 SCE-TTS 프로젝트의 음성 합성 데모입니다.\n",
    "\n",
    "이 데모에 대한 더 자세한 정보는 아래 링크에서 확인하실 수 있습니다.  \n",
    "https://sce-tts.github.io/"
   ]
  },
  {
   "cell_type": "markdown",
   "metadata": {
    "id": "AvxXfBluyZvb"
   },
   "source": [
    "## 1. 구글 드라이브 마운트\n",
    "\n",
    "음성합성을 위해 학습한 모델이 있는 구글 드라이브를 마운트합니다.  \n",
    "마운트할 구글 드라이브 내에 다음 파일들이 존재하는지 꼭 확인해주세요.\n",
    "\n",
    "- `/Colab Notebooks/data/glowtts-v2/model_file.pth.tar`\n",
    "- `/Colab Notebooks/data/glowtts-v2/config.json`\n",
    "- `/Colab Notebooks/data/hifigan-v2/model_file.pth.tar`\n",
    "- `/Colab Notebooks/data/hifigan-v2/config.json`\n",
    "\n",
    "\n",
    "(존재하지 않는다면, [glowtts-v2.zip](https://drive.google.com/file/d/1DMKLdfZ_gzc_z0qDod6_G8fEXj0zCHvC/view?usp=sharing), [hifigan-v2.zip](https://drive.google.com/file/d/1vRxp1RH-U7gSzWgyxnKY4h_7pB3tjPmU/view?usp=sharing)을 내려받아 준비해주세요.)\n",
    "\n",
    "만약 아래에 `Enter your authorization code:`과 같은 메시지가 출력될 경우,  \n",
    "같이 출력된 링크에 접속하여, 마운트할 구글 계정을 선택하신 후, 인증 코드를 복사하여 입력해주세요."
   ]
  },
  {
   "cell_type": "code",
   "metadata": {
    "id": "4U2wrDOthrsF",
    "colab": {
     "base_uri": "https://localhost:8080/"
    },
    "executionInfo": {
     "status": "ok",
     "timestamp": 1634274701229,
     "user_tz": -540,
     "elapsed": 18460,
     "user": {
      "displayName": "한국클라우드",
      "photoUrl": "https://lh3.googleusercontent.com/a/default-user=s64",
      "userId": "09878568177688585100"
     }
    },
    "outputId": "a33ccd0c-d0dd-40cb-e231-fba23908ac24"
   },
   "source": [
    "# -*- coding: utf-8 -*-\n",
    "# from google.colab import drive\n",
    "# drive.mount('/content/drive')"
   ],
   "execution_count": 7,
   "outputs": []
  },
  {
   "cell_type": "markdown",
   "metadata": {
    "id": "8erClGSnzwge"
   },
   "source": [
    "## 2. 필수 라이브러리 및 함수 불러오기\n",
    "\n",
    "실행에 필요한 라이브러리 및 함수를 불러옵니다.\n",
    "\n",
    "이 과정은 약 10분 정도 소요될 수 있습니다."
   ]
  },
  {
   "cell_type": "code",
   "metadata": {
    "id": "jYCym6hXge2_"
   },
   "source": [
    "import os\n",
    "import sys\n",
    "from pathlib import Path\n",
    "%cd C:\\Users\\User"
   ],
   "execution_count": 8,
   "outputs": [
    {
     "name": "stdout",
     "output_type": "stream",
     "text": [
      "C:\\Users\\User\n"
     ]
    }
   ]
  },
  {
   "cell_type": "code",
   "metadata": {
    "colab": {
     "base_uri": "https://localhost:8080/"
    },
    "id": "cmebwT16Vgps",
    "executionInfo": {
     "status": "ok",
     "timestamp": 1634274572737,
     "user_tz": -540,
     "elapsed": 177315,
     "user": {
      "displayName": "한국클라우드",
      "photoUrl": "https://lh3.googleusercontent.com/a/default-user=s64",
      "userId": "09878568177688585100"
     }
    },
    "outputId": "da0ecb11-f4f8-4204-94e8-79387f4de9ca"
   },
   "source": [
    "# import os\n",
    "# # install konlpy, jdk, JPype\n",
    "# !pip install konlpy\n",
    "# !apt-get install openjdk-8-jdk-headless -qq > /dev/null\n",
    "# !pip3 install JPype1-py3\n",
    "\n",
    "# # install mecab-ko\n",
    "# os.chdir('/tmp/')\n",
    "# !curl -LO https://bitbucket.org/eunjeon/mecab-ko/downloads/mecab-0.996-ko-0.9.2.tar.gz\n",
    "# !tar zxfv mecab-0.996-ko-0.9.2.tar.gz\n",
    "# os.chdir('/tmp/mecab-0.996-ko-0.9.2')\n",
    "# !./configure\n",
    "# !make\n",
    "# !make check\n",
    "# !make install\n",
    "\n",
    "# # install mecab-ko-dic\n",
    "# !apt-get install automake\n",
    "# os.chdir('/tmp')\n",
    "# !curl -LO https://bitbucket.org/eunjeon/mecab-ko-dic/downloads/mecab-ko-dic-2.1.1-20180720.tar.gz\n",
    "# !tar -zxvf mecab-ko-dic-2.1.1-20180720.tar.gz\n",
    "# os.chdir('/tmp/mecab-ko-dic-2.1.1-20180720')\n",
    "# !./autogen.sh\n",
    "# !./configure\n",
    "# !make\n",
    "# !make install\n",
    "\n",
    "# # install mecab-python\n",
    "# os.chdir('/content')\n",
    "# !git clone https://bitbucket.org/eunjeon/mecab-python-0.996.git\n",
    "# os.chdir('/content/mecab-python-0.996')\n",
    "# !python3 setup.py build\n",
    "# !python3 setup.py install"
   ],
   "execution_count": 9,
   "outputs": []
  },
  {
   "cell_type": "code",
   "metadata": {
    "id": "JkWG-L13gReB",
    "colab": {
     "base_uri": "https://localhost:8080/"
    },
    "executionInfo": {
     "status": "ok",
     "timestamp": 1634275024268,
     "user_tz": -540,
     "elapsed": 26333,
     "user": {
      "displayName": "한국클라우드",
      "photoUrl": "https://lh3.googleusercontent.com/a/default-user=s64",
      "userId": "09878568177688585100"
     }
    },
    "outputId": "387f42be-0169-4b22-c68a-8b20bbd88b45"
   },
   "source": [
    "# %cd C:\\\\Users\\lee\\Desktop\\SCE-TTS\n",
    "# !git clone --depth 1 https://github.com/sce-tts/TTS.git -b sce-tts\n",
    "# !git clone --depth 1 https://github.com/sce-tts/g2pK.git\n",
    "# %cd C:\\Users\\lee/Desktop\\SCE-TTS\\TTS\n",
    "# !pip install -q --no-cache-dir -e .\n",
    "# !pip install .\n",
    "# %cd C:\\Users\\lee\\Desktop\\SCE-TTS\\g2pK\n",
    "# !pip install -q --no-cache-dir \"konlpy\" \"jamo\" \"nltk\" \"python-mecab-ko\"\n",
    "# !pip install \"konlpy\" \"jamo\" \"nltk\" \"python-mecab-ko\"\n",
    "# !pip install \"konlpy\" \"jamo\" \"nltk\"\n",
    "# !pip install -q --no-cache-dir -e .\n",
    "\n",
    "!pip install tweepy>=3.7.0,3.10.0"
   ],
   "execution_count": 10,
   "outputs": [
    {
     "name": "stderr",
     "output_type": "stream",
     "text": [
      "ERROR: Invalid requirement: 'tweepy,3.10.0'\n"
     ]
    }
   ]
  },
  {
   "cell_type": "code",
   "metadata": {
    "colab": {
     "base_uri": "https://localhost:8080/"
    },
    "id": "FUD8SfIxSY8j",
    "executionInfo": {
     "status": "ok",
     "timestamp": 1634275030825,
     "user_tz": -540,
     "elapsed": 2614,
     "user": {
      "displayName": "한국클라우드",
      "photoUrl": "https://lh3.googleusercontent.com/a/default-user=s64",
      "userId": "09878568177688585100"
     }
    },
    "outputId": "804f710d-ef34-4b60-b73c-467ff1dbd3c7"
   },
   "source": [
    "!pip install \"konlpy\" \"jamo\" \"nltk\"\n",
    "!pip install .\n",
    "%cd C:/Users/User/Desktop/SCE-TTS/g2pK\n",
    "\n",
    "from g2pK.g2pk import g2pk\n",
    "g2p = g2pk.G2p()"
   ],
   "execution_count": 11,
   "outputs": [
    {
     "name": "stdout",
     "output_type": "stream",
     "text": [
      "Requirement already satisfied: konlpy in c:\\users\\user\\anaconda3\\envs\\hkcloud\\lib\\site-packages (0.5.2)\n",
      "Requirement already satisfied: jamo in c:\\users\\user\\anaconda3\\envs\\hkcloud\\lib\\site-packages (0.4.1)\n",
      "Requirement already satisfied: nltk in c:\\users\\user\\anaconda3\\envs\\hkcloud\\lib\\site-packages (3.6.5)\n",
      "Requirement already satisfied: beautifulsoup4==4.6.0 in c:\\users\\user\\anaconda3\\envs\\hkcloud\\lib\\site-packages (from konlpy) (4.6.0)\n",
      "Requirement already satisfied: numpy>=1.6 in c:\\users\\user\\anaconda3\\envs\\hkcloud\\lib\\site-packages (from konlpy) (1.18.5)\n",
      "Requirement already satisfied: colorama in c:\\users\\user\\anaconda3\\envs\\hkcloud\\lib\\site-packages (from konlpy) (0.4.4)\n",
      "Requirement already satisfied: tweepy>=3.7.0 in c:\\users\\user\\anaconda3\\envs\\hkcloud\\lib\\site-packages (from konlpy) (3.10.0)\n",
      "Requirement already satisfied: lxml>=4.1.0 in c:\\users\\user\\anaconda3\\envs\\hkcloud\\lib\\site-packages (from konlpy) (4.6.3)\n",
      "Requirement already satisfied: JPype1>=0.7.0 in c:\\users\\user\\anaconda3\\envs\\hkcloud\\lib\\site-packages (from konlpy) (1.3.0)\n",
      "Requirement already satisfied: click in c:\\users\\user\\anaconda3\\envs\\hkcloud\\lib\\site-packages (from nltk) (8.0.3)\n",
      "Requirement already satisfied: joblib in c:\\users\\user\\anaconda3\\envs\\hkcloud\\lib\\site-packages (from nltk) (1.1.0)\n",
      "Requirement already satisfied: tqdm in c:\\users\\user\\anaconda3\\envs\\hkcloud\\lib\\site-packages (from nltk) (4.62.3)\n",
      "Requirement already satisfied: regex>=2021.8.3 in c:\\users\\user\\anaconda3\\envs\\hkcloud\\lib\\site-packages (from nltk) (2021.10.8)\n",
      "Requirement already satisfied: typing-extensions in c:\\users\\user\\anaconda3\\envs\\hkcloud\\lib\\site-packages (from JPype1>=0.7.0->konlpy) (3.10.0.2)\n",
      "Requirement already satisfied: requests[socks]>=2.11.1 in c:\\users\\user\\anaconda3\\envs\\hkcloud\\lib\\site-packages (from tweepy>=3.7.0->konlpy) (2.26.0)\n",
      "Requirement already satisfied: six>=1.10.0 in c:\\users\\user\\anaconda3\\envs\\hkcloud\\lib\\site-packages (from tweepy>=3.7.0->konlpy) (1.16.0)\n",
      "Requirement already satisfied: requests-oauthlib>=0.7.0 in c:\\users\\user\\anaconda3\\envs\\hkcloud\\lib\\site-packages (from tweepy>=3.7.0->konlpy) (1.3.0)\n",
      "Requirement already satisfied: oauthlib>=3.0.0 in c:\\users\\user\\anaconda3\\envs\\hkcloud\\lib\\site-packages (from requests-oauthlib>=0.7.0->tweepy>=3.7.0->konlpy) (3.1.1)\n",
      "Requirement already satisfied: urllib3<1.27,>=1.21.1 in c:\\users\\user\\anaconda3\\envs\\hkcloud\\lib\\site-packages (from requests[socks]>=2.11.1->tweepy>=3.7.0->konlpy) (1.26.7)\n",
      "Requirement already satisfied: charset-normalizer~=2.0.0 in c:\\users\\user\\anaconda3\\envs\\hkcloud\\lib\\site-packages (from requests[socks]>=2.11.1->tweepy>=3.7.0->konlpy) (2.0.7)\n",
      "Requirement already satisfied: idna<4,>=2.5 in c:\\users\\user\\anaconda3\\envs\\hkcloud\\lib\\site-packages (from requests[socks]>=2.11.1->tweepy>=3.7.0->konlpy) (3.3)\n",
      "Requirement already satisfied: certifi>=2017.4.17 in c:\\users\\user\\anaconda3\\envs\\hkcloud\\lib\\site-packages (from requests[socks]>=2.11.1->tweepy>=3.7.0->konlpy) (2021.10.8)\n",
      "Requirement already satisfied: PySocks!=1.5.7,>=1.5.6 in c:\\users\\user\\anaconda3\\envs\\hkcloud\\lib\\site-packages (from requests[socks]>=2.11.1->tweepy>=3.7.0->konlpy) (1.7.1)\n",
      "Requirement already satisfied: importlib-metadata in c:\\users\\user\\anaconda3\\envs\\hkcloud\\lib\\site-packages (from click->nltk) (4.8.1)\n",
      "Requirement already satisfied: zipp>=0.5 in c:\\users\\user\\anaconda3\\envs\\hkcloud\\lib\\site-packages (from importlib-metadata->click->nltk) (3.6.0)\n"
     ]
    },
    {
     "name": "stderr",
     "output_type": "stream",
     "text": [
      "ERROR: Directory '.' is not installable. Neither 'setup.py' nor 'pyproject.toml' found.\n"
     ]
    },
    {
     "name": "stdout",
     "output_type": "stream",
     "text": [
      "C:\\Users\\User\\Desktop\\SCE-TTS\\g2pK\n"
     ]
    }
   ]
  },
  {
   "cell_type": "code",
   "metadata": {
    "colab": {
     "base_uri": "https://localhost:8080/"
    },
    "id": "Lt9bLLZ8I4GH",
    "executionInfo": {
     "status": "ok",
     "timestamp": 1634275060696,
     "user_tz": -540,
     "elapsed": 27876,
     "user": {
      "displayName": "한국클라우드",
      "photoUrl": "https://lh3.googleusercontent.com/a/default-user=s64",
      "userId": "09878568177688585100"
     }
    },
    "outputId": "533f17e5-51e6-4f7d-9eb5-d94f3797ff7e"
   },
   "source": [
    "%cd C:/Users/User/Desktop/SCE-TTS/TTS\n",
    "\n",
    "# -*- coding: utf-8 -*-\n",
    "\n",
    "from TTS.tts.utils.text import symbols\n",
    "from TTS.utils import synthesizer\n",
    "from TTS.tts.utils import synthesis\n",
    "\n",
    "from g2pK.g2pk import g2pk\n",
    "g2p = g2pk.G2p()\n",
    "\n",
    "import re\n",
    "import sys\n",
    "from unicodedata import normalize\n",
    "import IPython\n",
    "\n",
    "from TTS.utils.synthesizer import Synthesizer\n",
    "\n",
    "\n",
    "def normalize_text(text):\n",
    "    text = text.strip()\n",
    "\n",
    "    for c in \",;:\":\n",
    "        text = text.replace(c, \".\")\n",
    "    text = remove_duplicated_punctuations(text)\n",
    "\n",
    "    text = jamo_text(text)\n",
    "\n",
    "    text = g2p.idioms(text)\n",
    "    text = g2pk.english.convert_eng(text, g2p.cmu)\n",
    "    text = g2pk.utils.annotate(text, g2p.mecab)\n",
    "    text = g2pk.numerals.convert_num(text)\n",
    "    text = re.sub(\"/[PJEB]\", \"\", text)\n",
    "\n",
    "    text = alphabet_text(text)\n",
    "\n",
    "    # remove unreadable characters\n",
    "    text = normalize(\"NFD\", text)\n",
    "    text = \"\".join(c for c in text if c in symbols)\n",
    "    text = normalize(\"NFC\", text)\n",
    "\n",
    "    text = text.strip()\n",
    "    if len(text) == 0:\n",
    "        return \"\"\n",
    "\n",
    "    # only single punctuation\n",
    "    if text in '.!?':\n",
    "        return punctuation_text(text)\n",
    "\n",
    "    # append punctuation if there is no punctuation at the end of the text\n",
    "    if text[-1] not in '.!?':\n",
    "        text += '.'\n",
    "\n",
    "    return text\n",
    "\n",
    "\n",
    "def remove_duplicated_punctuations(text):\n",
    "    text = re.sub(r\"[.?!]+\\?\", \"?\", text)\n",
    "    text = re.sub(r\"[.?!]+!\", \"!\", text)\n",
    "    text = re.sub(r\"[.?!]+\\.\", \".\", text)\n",
    "    return text\n",
    "\n",
    "\n",
    "def split_text(text):\n",
    "    text = remove_duplicated_punctuations(text)\n",
    "\n",
    "    texts = []\n",
    "    for subtext in re.findall(r'[^.!?\\n]*[.!?\\n]', text):\n",
    "        texts.append(subtext.strip())\n",
    "\n",
    "    return texts\n",
    "\n",
    "\n",
    "def alphabet_text(text):\n",
    "    text = re.sub(r\"(a|A)\", \"에이\", text)\n",
    "    text = re.sub(r\"(b|B)\", \"비\", text)\n",
    "    text = re.sub(r\"(c|C)\", \"씨\", text)\n",
    "    text = re.sub(r\"(d|D)\", \"디\", text)\n",
    "    text = re.sub(r\"(e|E)\", \"이\", text)\n",
    "    text = re.sub(r\"(f|F)\", \"에프\", text)\n",
    "    text = re.sub(r\"(g|G)\", \"쥐\", text)\n",
    "    text = re.sub(r\"(h|H)\", \"에이치\", text)\n",
    "    text = re.sub(r\"(i|I)\", \"아이\", text)\n",
    "    text = re.sub(r\"(j|J)\", \"제이\", text)\n",
    "    text = re.sub(r\"(k|K)\", \"케이\", text)\n",
    "    text = re.sub(r\"(l|L)\", \"엘\", text)\n",
    "    text = re.sub(r\"(m|M)\", \"엠\", text)\n",
    "    text = re.sub(r\"(n|N)\", \"엔\", text)\n",
    "    text = re.sub(r\"(o|O)\", \"오\", text)\n",
    "    text = re.sub(r\"(p|P)\", \"피\", text)\n",
    "    text = re.sub(r\"(q|Q)\", \"큐\", text)\n",
    "    text = re.sub(r\"(r|R)\", \"알\", text)\n",
    "    text = re.sub(r\"(s|S)\", \"에스\", text)\n",
    "    text = re.sub(r\"(t|T)\", \"티\", text)\n",
    "    text = re.sub(r\"(u|U)\", \"유\", text)\n",
    "    text = re.sub(r\"(v|V)\", \"브이\", text)\n",
    "    text = re.sub(r\"(w|W)\", \"더블유\", text)\n",
    "    text = re.sub(r\"(x|X)\", \"엑스\", text)\n",
    "    text = re.sub(r\"(y|Y)\", \"와이\", text)\n",
    "    text = re.sub(r\"(z|Z)\", \"지\", text)\n",
    "\n",
    "    return text\n",
    "\n",
    "\n",
    "def punctuation_text(text):\n",
    "    # 문장부호\n",
    "    text = re.sub(r\"!\", \"느낌표\", text)\n",
    "    text = re.sub(r\"\\?\", \"물음표\", text)\n",
    "    text = re.sub(r\"\\.\", \"마침표\", text)\n",
    "\n",
    "    return text\n",
    "\n",
    "\n",
    "def jamo_text(text):\n",
    "    # 기본 자모음\n",
    "    text = re.sub(r\"ㄱ\", \"기역\", text)\n",
    "    text = re.sub(r\"ㄴ\", \"니은\", text)\n",
    "    text = re.sub(r\"ㄷ\", \"디귿\", text)\n",
    "    text = re.sub(r\"ㄹ\", \"리을\", text)\n",
    "    text = re.sub(r\"ㅁ\", \"미음\", text)\n",
    "    text = re.sub(r\"ㅂ\", \"비읍\", text)\n",
    "    text = re.sub(r\"ㅅ\", \"시옷\", text)\n",
    "    text = re.sub(r\"ㅇ\", \"이응\", text)\n",
    "    text = re.sub(r\"ㅈ\", \"지읒\", text)\n",
    "    text = re.sub(r\"ㅊ\", \"치읓\", text)\n",
    "    text = re.sub(r\"ㅋ\", \"키읔\", text)\n",
    "    text = re.sub(r\"ㅌ\", \"티읕\", text)\n",
    "    text = re.sub(r\"ㅍ\", \"피읖\", text)\n",
    "    text = re.sub(r\"ㅎ\", \"히읗\", text)\n",
    "    text = re.sub(r\"ㄲ\", \"쌍기역\", text)\n",
    "    text = re.sub(r\"ㄸ\", \"쌍디귿\", text)\n",
    "    text = re.sub(r\"ㅃ\", \"쌍비읍\", text)\n",
    "    text = re.sub(r\"ㅆ\", \"쌍시옷\", text)\n",
    "    text = re.sub(r\"ㅉ\", \"쌍지읒\", text)\n",
    "    text = re.sub(r\"ㄳ\", \"기역시옷\", text)\n",
    "    text = re.sub(r\"ㄵ\", \"니은지읒\", text)\n",
    "    text = re.sub(r\"ㄶ\", \"니은히읗\", text)\n",
    "    text = re.sub(r\"ㄺ\", \"리을기역\", text)\n",
    "    text = re.sub(r\"ㄻ\", \"리을미음\", text)\n",
    "    text = re.sub(r\"ㄼ\", \"리을비읍\", text)\n",
    "    text = re.sub(r\"ㄽ\", \"리을시옷\", text)\n",
    "    text = re.sub(r\"ㄾ\", \"리을티읕\", text)\n",
    "    text = re.sub(r\"ㄿ\", \"리을피읍\", text)\n",
    "    text = re.sub(r\"ㅀ\", \"리을히읗\", text)\n",
    "    text = re.sub(r\"ㅄ\", \"비읍시옷\", text)\n",
    "    text = re.sub(r\"ㅏ\", \"아\", text)\n",
    "    text = re.sub(r\"ㅑ\", \"야\", text)\n",
    "    text = re.sub(r\"ㅓ\", \"어\", text)\n",
    "    text = re.sub(r\"ㅕ\", \"여\", text)\n",
    "    text = re.sub(r\"ㅗ\", \"오\", text)\n",
    "    text = re.sub(r\"ㅛ\", \"요\", text)\n",
    "    text = re.sub(r\"ㅜ\", \"우\", text)\n",
    "    text = re.sub(r\"ㅠ\", \"유\", text)\n",
    "    text = re.sub(r\"ㅡ\", \"으\", text)\n",
    "    text = re.sub(r\"ㅣ\", \"이\", text)\n",
    "    text = re.sub(r\"ㅐ\", \"애\", text)\n",
    "    text = re.sub(r\"ㅒ\", \"얘\", text)\n",
    "    text = re.sub(r\"ㅔ\", \"에\", text)\n",
    "    text = re.sub(r\"ㅖ\", \"예\", text)\n",
    "    text = re.sub(r\"ㅘ\", \"와\", text)\n",
    "    text = re.sub(r\"ㅙ\", \"왜\", text)\n",
    "    text = re.sub(r\"ㅚ\", \"외\", text)\n",
    "    text = re.sub(r\"ㅝ\", \"워\", text)\n",
    "    text = re.sub(r\"ㅞ\", \"웨\", text)\n",
    "    text = re.sub(r\"ㅟ\", \"위\", text)\n",
    "    text = re.sub(r\"ㅢ\", \"의\", text)\n",
    "\n",
    "    return text\n",
    "\n",
    "\n",
    "def normalize_multiline_text(long_text):\n",
    "    texts = split_text(long_text)\n",
    "    normalized_texts = [normalize_text(text).strip() for text in texts]\n",
    "    return [text for text in normalized_texts if len(text) > 0]\n",
    "\n",
    "def synthesize(text):\n",
    "    wavs = synthesizer.tts(text, None, None)\n",
    "    return wavs\n",
    "\n"
   ],
   "execution_count": 12,
   "outputs": [
    {
     "name": "stdout",
     "output_type": "stream",
     "text": [
      "C:\\Users\\User\\Desktop\\SCE-TTS\\TTS\n"
     ]
    }
   ]
  },
  {
   "cell_type": "code",
   "metadata": {
    "colab": {
     "base_uri": "https://localhost:8080/"
    },
    "id": "zwROk8zUHgUn",
    "executionInfo": {
     "status": "ok",
     "timestamp": 1634275094750,
     "user_tz": -540,
     "elapsed": 34080,
     "user": {
      "displayName": "한국클라우드",
      "photoUrl": "https://lh3.googleusercontent.com/a/default-user=s64",
      "userId": "09878568177688585100"
     }
    },
    "outputId": "ff32505b-aebd-4ab8-dbdc-470a0f0fb522"
   },
   "source": [
    "# -*- coding: utf-8 -*-\n",
    "synthesizer = Synthesizer(\n",
    "    \"C:/Users/User/Desktop/SCE-TTS/data/glowtts-v2/glowtts-v2-October-13-2021_09+09AM-3aa165a/checkpoint_39000.pth.tar\",\n",
    "    \"C:/Users/User/Desktop/SCE-TTS/data/glowtts-v2/glowtts-v2-October-13-2021_09+09AM-3aa165a/config.json\",\n",
    "    None,\n",
    "    \"C:/Users/User/Desktop/SCE-TTS/data/hifigan-v2/hifigan-v2-October-14-2021_06+32AM-3aa165a/checkpoint_295000.pth.tar\",\n",
    "    \"C:/Users/User/Desktop/SCE-TTS/data/hifigan-v2/hifigan-v2-October-14-2021_06+32AM-3aa165a/config.json\",\n",
    "    None,\n",
    "    None,\n",
    "    None,\n",
    ")\n",
    "\n",
    "symbols = synthesizer.tts_config.characters.characters"
   ],
   "execution_count": 13,
   "outputs": [
    {
     "ename": "FileNotFoundError",
     "evalue": "[Errno 2] No such file or directory: '/content/drive/My Drive/Colab Notebooks/data/glowtts-v2/scale_stats.npy'",
     "output_type": "error",
     "traceback": [
      "\u001B[1;31m---------------------------------------------------------------------------\u001B[0m",
      "\u001B[1;31mFileNotFoundError\u001B[0m                         Traceback (most recent call last)",
      "\u001B[1;32m~\\AppData\\Local\\Temp/ipykernel_15284/1055259045.py\u001B[0m in \u001B[0;36m<module>\u001B[1;34m\u001B[0m\n\u001B[0;32m      8\u001B[0m     \u001B[1;32mNone\u001B[0m\u001B[1;33m,\u001B[0m\u001B[1;33m\u001B[0m\u001B[1;33m\u001B[0m\u001B[0m\n\u001B[0;32m      9\u001B[0m     \u001B[1;32mNone\u001B[0m\u001B[1;33m,\u001B[0m\u001B[1;33m\u001B[0m\u001B[1;33m\u001B[0m\u001B[0m\n\u001B[1;32m---> 10\u001B[1;33m     \u001B[1;32mNone\u001B[0m\u001B[1;33m,\u001B[0m\u001B[1;33m\u001B[0m\u001B[1;33m\u001B[0m\u001B[0m\n\u001B[0m\u001B[0;32m     11\u001B[0m )\n\u001B[0;32m     12\u001B[0m \u001B[1;33m\u001B[0m\u001B[0m\n",
      "\u001B[1;32m~\\Desktop\\SCE-TTS\\TTS\\TTS\\utils\\synthesizer.py\u001B[0m in \u001B[0;36m__init__\u001B[1;34m(self, tts_checkpoint, tts_config_path, tts_speakers_file, vocoder_checkpoint, vocoder_config, encoder_checkpoint, encoder_config, use_cuda)\u001B[0m\n\u001B[0;32m     70\u001B[0m         \u001B[1;32mif\u001B[0m \u001B[0mself\u001B[0m\u001B[1;33m.\u001B[0m\u001B[0muse_cuda\u001B[0m\u001B[1;33m:\u001B[0m\u001B[1;33m\u001B[0m\u001B[1;33m\u001B[0m\u001B[0m\n\u001B[0;32m     71\u001B[0m             \u001B[1;32massert\u001B[0m \u001B[0mtorch\u001B[0m\u001B[1;33m.\u001B[0m\u001B[0mcuda\u001B[0m\u001B[1;33m.\u001B[0m\u001B[0mis_available\u001B[0m\u001B[1;33m(\u001B[0m\u001B[1;33m)\u001B[0m\u001B[1;33m,\u001B[0m \u001B[1;34m\"CUDA is not availabe on this machine.\"\u001B[0m\u001B[1;33m\u001B[0m\u001B[1;33m\u001B[0m\u001B[0m\n\u001B[1;32m---> 72\u001B[1;33m         \u001B[0mself\u001B[0m\u001B[1;33m.\u001B[0m\u001B[0m_load_tts\u001B[0m\u001B[1;33m(\u001B[0m\u001B[0mtts_checkpoint\u001B[0m\u001B[1;33m,\u001B[0m \u001B[0mtts_config_path\u001B[0m\u001B[1;33m,\u001B[0m \u001B[0muse_cuda\u001B[0m\u001B[1;33m)\u001B[0m\u001B[1;33m\u001B[0m\u001B[1;33m\u001B[0m\u001B[0m\n\u001B[0m\u001B[0;32m     73\u001B[0m         \u001B[0mself\u001B[0m\u001B[1;33m.\u001B[0m\u001B[0moutput_sample_rate\u001B[0m \u001B[1;33m=\u001B[0m \u001B[0mself\u001B[0m\u001B[1;33m.\u001B[0m\u001B[0mtts_config\u001B[0m\u001B[1;33m.\u001B[0m\u001B[0maudio\u001B[0m\u001B[1;33m[\u001B[0m\u001B[1;34m\"sample_rate\"\u001B[0m\u001B[1;33m]\u001B[0m\u001B[1;33m\u001B[0m\u001B[1;33m\u001B[0m\u001B[0m\n\u001B[0;32m     74\u001B[0m         \u001B[1;32mif\u001B[0m \u001B[0mvocoder_checkpoint\u001B[0m\u001B[1;33m:\u001B[0m\u001B[1;33m\u001B[0m\u001B[1;33m\u001B[0m\u001B[0m\n",
      "\u001B[1;32m~\\Desktop\\SCE-TTS\\TTS\\TTS\\utils\\synthesizer.py\u001B[0m in \u001B[0;36m_load_tts\u001B[1;34m(self, tts_checkpoint, tts_config_path, use_cuda)\u001B[0m\n\u001B[0;32m    116\u001B[0m         \u001B[0mself\u001B[0m\u001B[1;33m.\u001B[0m\u001B[0mtts_config\u001B[0m \u001B[1;33m=\u001B[0m \u001B[0mload_config\u001B[0m\u001B[1;33m(\u001B[0m\u001B[0mtts_config_path\u001B[0m\u001B[1;33m)\u001B[0m\u001B[1;33m\u001B[0m\u001B[1;33m\u001B[0m\u001B[0m\n\u001B[0;32m    117\u001B[0m         \u001B[0mself\u001B[0m\u001B[1;33m.\u001B[0m\u001B[0muse_phonemes\u001B[0m \u001B[1;33m=\u001B[0m \u001B[0mself\u001B[0m\u001B[1;33m.\u001B[0m\u001B[0mtts_config\u001B[0m\u001B[1;33m.\u001B[0m\u001B[0muse_phonemes\u001B[0m\u001B[1;33m\u001B[0m\u001B[1;33m\u001B[0m\u001B[0m\n\u001B[1;32m--> 118\u001B[1;33m         \u001B[0mself\u001B[0m\u001B[1;33m.\u001B[0m\u001B[0map\u001B[0m \u001B[1;33m=\u001B[0m \u001B[0mAudioProcessor\u001B[0m\u001B[1;33m(\u001B[0m\u001B[0mverbose\u001B[0m\u001B[1;33m=\u001B[0m\u001B[1;32mFalse\u001B[0m\u001B[1;33m,\u001B[0m \u001B[1;33m**\u001B[0m\u001B[0mself\u001B[0m\u001B[1;33m.\u001B[0m\u001B[0mtts_config\u001B[0m\u001B[1;33m.\u001B[0m\u001B[0maudio\u001B[0m\u001B[1;33m)\u001B[0m\u001B[1;33m\u001B[0m\u001B[1;33m\u001B[0m\u001B[0m\n\u001B[0m\u001B[0;32m    119\u001B[0m \u001B[1;33m\u001B[0m\u001B[0m\n\u001B[0;32m    120\u001B[0m         \u001B[1;32mif\u001B[0m \u001B[0mself\u001B[0m\u001B[1;33m.\u001B[0m\u001B[0mtts_config\u001B[0m\u001B[1;33m.\u001B[0m\u001B[0mhas\u001B[0m\u001B[1;33m(\u001B[0m\u001B[1;34m\"characters\"\u001B[0m\u001B[1;33m)\u001B[0m \u001B[1;32mand\u001B[0m \u001B[0mself\u001B[0m\u001B[1;33m.\u001B[0m\u001B[0mtts_config\u001B[0m\u001B[1;33m.\u001B[0m\u001B[0mcharacters\u001B[0m\u001B[1;33m:\u001B[0m\u001B[1;33m\u001B[0m\u001B[1;33m\u001B[0m\u001B[0m\n",
      "\u001B[1;32m~\\Desktop\\SCE-TTS\\TTS\\TTS\\utils\\audio.py\u001B[0m in \u001B[0;36m__init__\u001B[1;34m(self, sample_rate, resample, num_mels, log_func, min_level_db, frame_shift_ms, frame_length_ms, hop_length, win_length, ref_level_db, fft_size, power, preemphasis, signal_norm, symmetric_norm, max_norm, mel_fmin, mel_fmax, spec_gain, stft_pad_mode, clip_norm, griffin_lim_iters, do_trim_silence, trim_db, do_sound_norm, stats_path, verbose, **_)\u001B[0m\n\u001B[0;32m    131\u001B[0m         \u001B[1;31m# setup scaler\u001B[0m\u001B[1;33m\u001B[0m\u001B[1;33m\u001B[0m\u001B[1;33m\u001B[0m\u001B[0m\n\u001B[0;32m    132\u001B[0m         \u001B[1;32mif\u001B[0m \u001B[0mstats_path\u001B[0m \u001B[1;32mand\u001B[0m \u001B[0msignal_norm\u001B[0m\u001B[1;33m:\u001B[0m\u001B[1;33m\u001B[0m\u001B[1;33m\u001B[0m\u001B[0m\n\u001B[1;32m--> 133\u001B[1;33m             \u001B[0mmel_mean\u001B[0m\u001B[1;33m,\u001B[0m \u001B[0mmel_std\u001B[0m\u001B[1;33m,\u001B[0m \u001B[0mlinear_mean\u001B[0m\u001B[1;33m,\u001B[0m \u001B[0mlinear_std\u001B[0m\u001B[1;33m,\u001B[0m \u001B[0m_\u001B[0m \u001B[1;33m=\u001B[0m \u001B[0mself\u001B[0m\u001B[1;33m.\u001B[0m\u001B[0mload_stats\u001B[0m\u001B[1;33m(\u001B[0m\u001B[0mstats_path\u001B[0m\u001B[1;33m)\u001B[0m\u001B[1;33m\u001B[0m\u001B[1;33m\u001B[0m\u001B[0m\n\u001B[0m\u001B[0;32m    134\u001B[0m             \u001B[0mself\u001B[0m\u001B[1;33m.\u001B[0m\u001B[0msetup_scaler\u001B[0m\u001B[1;33m(\u001B[0m\u001B[0mmel_mean\u001B[0m\u001B[1;33m,\u001B[0m \u001B[0mmel_std\u001B[0m\u001B[1;33m,\u001B[0m \u001B[0mlinear_mean\u001B[0m\u001B[1;33m,\u001B[0m \u001B[0mlinear_std\u001B[0m\u001B[1;33m)\u001B[0m\u001B[1;33m\u001B[0m\u001B[1;33m\u001B[0m\u001B[0m\n\u001B[0;32m    135\u001B[0m             \u001B[0mself\u001B[0m\u001B[1;33m.\u001B[0m\u001B[0msignal_norm\u001B[0m \u001B[1;33m=\u001B[0m \u001B[1;32mTrue\u001B[0m\u001B[1;33m\u001B[0m\u001B[1;33m\u001B[0m\u001B[0m\n",
      "\u001B[1;32m~\\Desktop\\SCE-TTS\\TTS\\TTS\\utils\\audio.py\u001B[0m in \u001B[0;36mload_stats\u001B[1;34m(self, stats_path)\u001B[0m\n\u001B[0;32m    220\u001B[0m     \u001B[1;31m### Mean-STD scaling ###\u001B[0m\u001B[1;33m\u001B[0m\u001B[1;33m\u001B[0m\u001B[1;33m\u001B[0m\u001B[0m\n\u001B[0;32m    221\u001B[0m     \u001B[1;32mdef\u001B[0m \u001B[0mload_stats\u001B[0m\u001B[1;33m(\u001B[0m\u001B[0mself\u001B[0m\u001B[1;33m,\u001B[0m \u001B[0mstats_path\u001B[0m\u001B[1;33m)\u001B[0m\u001B[1;33m:\u001B[0m\u001B[1;33m\u001B[0m\u001B[1;33m\u001B[0m\u001B[0m\n\u001B[1;32m--> 222\u001B[1;33m         \u001B[0mstats\u001B[0m \u001B[1;33m=\u001B[0m \u001B[0mnp\u001B[0m\u001B[1;33m.\u001B[0m\u001B[0mload\u001B[0m\u001B[1;33m(\u001B[0m\u001B[0mstats_path\u001B[0m\u001B[1;33m,\u001B[0m \u001B[0mallow_pickle\u001B[0m\u001B[1;33m=\u001B[0m\u001B[1;32mTrue\u001B[0m\u001B[1;33m)\u001B[0m\u001B[1;33m.\u001B[0m\u001B[0mitem\u001B[0m\u001B[1;33m(\u001B[0m\u001B[1;33m)\u001B[0m  \u001B[1;31m# pylint: disable=unexpected-keyword-arg\u001B[0m\u001B[1;33m\u001B[0m\u001B[1;33m\u001B[0m\u001B[0m\n\u001B[0m\u001B[0;32m    223\u001B[0m         \u001B[0mmel_mean\u001B[0m \u001B[1;33m=\u001B[0m \u001B[0mstats\u001B[0m\u001B[1;33m[\u001B[0m\u001B[1;34m\"mel_mean\"\u001B[0m\u001B[1;33m]\u001B[0m\u001B[1;33m\u001B[0m\u001B[1;33m\u001B[0m\u001B[0m\n\u001B[0;32m    224\u001B[0m         \u001B[0mmel_std\u001B[0m \u001B[1;33m=\u001B[0m \u001B[0mstats\u001B[0m\u001B[1;33m[\u001B[0m\u001B[1;34m\"mel_std\"\u001B[0m\u001B[1;33m]\u001B[0m\u001B[1;33m\u001B[0m\u001B[1;33m\u001B[0m\u001B[0m\n",
      "\u001B[1;32m~\\anaconda3\\envs\\hkcloud\\lib\\site-packages\\numpy\\lib\\npyio.py\u001B[0m in \u001B[0;36mload\u001B[1;34m(file, mmap_mode, allow_pickle, fix_imports, encoding)\u001B[0m\n\u001B[0;32m    426\u001B[0m         \u001B[0mown_fid\u001B[0m \u001B[1;33m=\u001B[0m \u001B[1;32mFalse\u001B[0m\u001B[1;33m\u001B[0m\u001B[1;33m\u001B[0m\u001B[0m\n\u001B[0;32m    427\u001B[0m     \u001B[1;32melse\u001B[0m\u001B[1;33m:\u001B[0m\u001B[1;33m\u001B[0m\u001B[1;33m\u001B[0m\u001B[0m\n\u001B[1;32m--> 428\u001B[1;33m         \u001B[0mfid\u001B[0m \u001B[1;33m=\u001B[0m \u001B[0mopen\u001B[0m\u001B[1;33m(\u001B[0m\u001B[0mos_fspath\u001B[0m\u001B[1;33m(\u001B[0m\u001B[0mfile\u001B[0m\u001B[1;33m)\u001B[0m\u001B[1;33m,\u001B[0m \u001B[1;34m\"rb\"\u001B[0m\u001B[1;33m)\u001B[0m\u001B[1;33m\u001B[0m\u001B[1;33m\u001B[0m\u001B[0m\n\u001B[0m\u001B[0;32m    429\u001B[0m         \u001B[0mown_fid\u001B[0m \u001B[1;33m=\u001B[0m \u001B[1;32mTrue\u001B[0m\u001B[1;33m\u001B[0m\u001B[1;33m\u001B[0m\u001B[0m\n\u001B[0;32m    430\u001B[0m \u001B[1;33m\u001B[0m\u001B[0m\n",
      "\u001B[1;31mFileNotFoundError\u001B[0m: [Errno 2] No such file or directory: '/content/drive/My Drive/Colab Notebooks/data/glowtts-v2/scale_stats.npy'"
     ]
    }
   ]
  },
  {
   "cell_type": "markdown",
   "metadata": {
    "id": "tmjT_BrV0XYD"
   },
   "source": [
    "## 4. 음성 합성\n",
    "\n",
    "실제 음성 합성을 수행합니다.\n",
    "\n",
    "`long_text`의 값을 변경하여 다른 문장의 합성도 시도해보실 수 있습니다."
   ]
  },
  {
   "cell_type": "code",
   "metadata": {
    "id": "XSnF1D48F1tx",
    "colab": {
     "base_uri": "https://localhost:8080/",
     "height": 811,
     "output_embedded_package_id": "1iijDG7lJkN3YbZzI7NQ3WOo5olvyefMs"
    },
    "executionInfo": {
     "status": "ok",
     "timestamp": 1634275109581,
     "user_tz": -540,
     "elapsed": 14838,
     "user": {
      "displayName": "한국클라우드",
      "photoUrl": "https://lh3.googleusercontent.com/a/default-user=s64",
      "userId": "09878568177688585100"
     }
    },
    "outputId": "2fe44cff-dae1-48d4-8f54-b322abdfe2f8"
   },
   "source": [
    "texts = \"\"\"\n",
    "아래 333문장들은 모델 학습을 위해 사용하지 않은 문장들입니다.\n",
    "서울특별시 특허허가과 허가과장 허과장.\n",
    "경찰청 철창살은 외철창살이고 검찰청 철창살은 쌍철창살이다.\n",
    "지향을 지양으로 오기하는 일을 지양하는 언어 습관을 지향해야 한다.\n",
    "그러니까 외계인이 우리 생각을 읽고 우리 생각을 우리가 다시 생각토록 해서 그 생각이 마치 우리가 생각한 것인 것처럼 속였다는 거냐?\n",
    "안 촉촉한 초코칩 나라에 살던 안 촉촉한 초코칩이 촉촉한 초코칩 나라의 촉촉한 초코칩을 보고 촉촉한 초코칩이 되고 싶어서 촉촉한 초코칩 나라에 갔는데 촉촉한 초코칩 나라의 촉촉한 문지기가 넌 촉촉한 초코칩이 아니고 안 촉촉한 초코칩이니까 안 촉촉한 초코칩 나라에서 살라고 해서 안 촉촉한 초코칩은 촉촉한 초코칩이 되는 것을 포기하고 안 촉촉한 눈물을 흘리며 안 촉촉한 초코칩 나라로 돌아갔다.\n",
    "\"\"\"\n",
    "for text in normalize_multiline_text(texts):\n",
    "    wav = synthesizer.tts(text, None, None)\n",
    "    IPython.display.display(IPython.display.Audio(wav, rate=22050))  "
   ],
   "execution_count": null,
   "outputs": []
  },
  {
   "cell_type": "code",
   "metadata": {
    "id": "T2aOolpshWM5"
   },
   "source": [],
   "execution_count": null,
   "outputs": []
  },
  {
   "cell_type": "code",
   "execution_count": null,
   "outputs": [],
   "source": [],
   "metadata": {
    "collapsed": false,
    "pycharm": {
     "name": "#%%\n"
    }
   }
  },
  {
   "cell_type": "code",
   "execution_count": null,
   "outputs": [],
   "source": [],
   "metadata": {
    "collapsed": false,
    "pycharm": {
     "name": "#%%\n"
    }
   }
  },
  {
   "cell_type": "code",
   "execution_count": null,
   "outputs": [],
   "source": [],
   "metadata": {
    "collapsed": false,
    "pycharm": {
     "name": "#%%\n"
    }
   }
  }
 ]
}